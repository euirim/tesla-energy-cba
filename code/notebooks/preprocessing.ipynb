{
 "cells": [
  {
   "cell_type": "code",
   "execution_count": 1,
   "metadata": {},
   "outputs": [],
   "source": [
    "import sys\n",
    "sys.path.append(\"..\")\n",
    "from preprocessing import *"
   ]
  },
  {
   "cell_type": "code",
   "execution_count": 2,
   "metadata": {},
   "outputs": [],
   "source": [
    "zcta_df = get_zctas(ZCTA_DATA)\n",
    "sunroof_df = get_sunroof_data(SUNROOF_DATA)\n",
    "price_by_zip_df = get_electricity_data(\n",
    "    IOU_ELECTRICITY_PRICE_DATA, \n",
    "    NONIOU_ELECTRICITY_PRICE_DATA\n",
    ")\n",
    "solar_dni_df = get_solar_dni_data(SOLAR_DNI_DATA)\n",
    "census_df = get_census_data(CENSUS_DATA)\n",
    "\n",
    "result_df = pd.merge(\n",
    "    zcta_df,\n",
    "    sunroof_df,\n",
    "    on='zip',\n",
    "    how='left',\n",
    ")\n",
    "result_df = pd.merge(\n",
    "    result_df,\n",
    "    price_by_zip_df,\n",
    "    on='zip',\n",
    "    how='left',\n",
    ")\n",
    "result_df = pd.merge(\n",
    "    result_df,\n",
    "    solar_dni_df,\n",
    "    on='zip',\n",
    "    how='left',\n",
    ")\n",
    "result_df = pd.merge(\n",
    "    result_df,\n",
    "    census_df,\n",
    "    on='zip',\n",
    "    how='left',\n",
    ")"
   ]
  },
  {
   "cell_type": "code",
   "execution_count": 3,
   "metadata": {},
   "outputs": [
    {
     "data": {
      "text/plain": [
       "(33144, 1)"
      ]
     },
     "metadata": {},
     "output_type": "display_data"
    },
    {
     "data": {
      "text/plain": [
       "(11438, 27)"
      ]
     },
     "metadata": {},
     "output_type": "display_data"
    },
    {
     "data": {
      "text/plain": [
       "(38328, 3)"
      ]
     },
     "metadata": {},
     "output_type": "display_data"
    },
    {
     "data": {
      "text/plain": [
       "(32527, 6)"
      ]
     },
     "metadata": {},
     "output_type": "display_data"
    },
    {
     "data": {
      "text/plain": [
       "(33144, 38)"
      ]
     },
     "metadata": {},
     "output_type": "display_data"
    }
   ],
   "source": [
    "display(zcta_df.shape)\n",
    "display(sunroof_df.shape)\n",
    "display(price_by_zip_df.shape)\n",
    "display(solar_dni_df.shape)\n",
    "display(result_df.shape)"
   ]
  },
  {
   "cell_type": "code",
   "execution_count": 4,
   "metadata": {},
   "outputs": [],
   "source": [
    "result_df.to_csv(OUTPUT_FILE)"
   ]
  }
 ],
 "metadata": {
  "kernelspec": {
   "display_name": "Python 3",
   "language": "python",
   "name": "python3"
  },
  "language_info": {
   "codemirror_mode": {
    "name": "ipython",
    "version": 3
   },
   "file_extension": ".py",
   "mimetype": "text/x-python",
   "name": "python",
   "nbconvert_exporter": "python",
   "pygments_lexer": "ipython3",
   "version": "3.6.3"
  }
 },
 "nbformat": 4,
 "nbformat_minor": 2
}
